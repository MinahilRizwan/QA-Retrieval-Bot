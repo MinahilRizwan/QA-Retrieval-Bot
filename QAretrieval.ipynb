{
 "cells": [
  {
   "cell_type": "markdown",
   "metadata": {},
   "source": [
    "# Install Libraries"
   ]
  },
  {
   "cell_type": "code",
   "execution_count": null,
   "metadata": {
    "colab": {
     "base_uri": "https://localhost:8080/"
    },
    "executionInfo": {
     "elapsed": 6562,
     "status": "ok",
     "timestamp": 1746275537670,
     "user": {
      "displayName": "Bushra BAIG",
      "userId": "06814489380543387202"
     },
     "user_tz": 420
    },
    "id": "s_ntYilSHsZD",
    "outputId": "e6d8d81e-f175-46d8-c38c-f51990e466f8"
   },
   "outputs": [],
   "source": [
    "pip install langchain google-generativeai huggingface-hub faiss-cpu chromadb\n"
   ]
  },
  {
   "cell_type": "code",
   "execution_count": null,
   "metadata": {
    "id": "dC4lNyoLIlCs"
   },
   "outputs": [],
   "source": [
    "import os\n",
    "from dotenv import load_dotenv\n",
    "\n",
    "# loading environment variables from .env file\n",
    "load_dotenv()\n",
    "\n",
    "google_api_key = os.getenv(\"GOOGLE_API_KEY\")\n",
    "hf_token = os.getenv(\"HUGGINGFACEHUB_API_TOKEN\")\n",
    "\n",
    "print(\"Google API Key:\", google_api_key)\n"
   ]
  },
  {
   "cell_type": "code",
   "execution_count": null,
   "metadata": {
    "colab": {
     "base_uri": "https://localhost:8080/"
    },
    "executionInfo": {
     "elapsed": 3318,
     "status": "ok",
     "timestamp": 1746280258257,
     "user": {
      "displayName": "Bushra BAIG",
      "userId": "06814489380543387202"
     },
     "user_tz": 420
    },
    "id": "qmqO_JPNJzdD",
    "outputId": "5e81c6e9-fcc5-4fbb-bb33-595790728a1a"
   },
   "outputs": [],
   "source": [
    "!pip install -U langchain-community"
   ]
  },
  {
   "cell_type": "code",
   "execution_count": null,
   "metadata": {},
   "outputs": [],
   "source": [
    "!pip install google-generativeai\n"
   ]
  },
  {
   "cell_type": "code",
   "execution_count": null,
   "metadata": {
    "colab": {
     "base_uri": "https://localhost:8080/"
    },
    "executionInfo": {
     "elapsed": 207868,
     "status": "ok",
     "timestamp": 1746280474092,
     "user": {
      "displayName": "Bushra BAIG",
      "userId": "06814489380543387202"
     },
     "user_tz": 420
    },
    "id": "i6nuwtQtKNsE",
    "outputId": "c738ff76-6cb4-484d-fd8f-86f7926c6597"
   },
   "outputs": [],
   "source": [
    "# ✅ Required Imports\n",
    "from langchain_community.document_loaders import PyMuPDFLoader\n",
    "from langchain.text_splitter import RecursiveCharacterTextSplitter\n",
    "from langchain.vectorstores import FAISS\n",
    "from langchain.embeddings import HuggingFaceEmbeddings\n",
    "from langchain.chains import RetrievalQA\n",
    "from langchain_google_genai import ChatGoogleGenerativeAI\n",
    "from langchain_core.prompts import PromptTemplate\n",
    "from dotenv import load_dotenv\n",
    "import os\n",
    "\n",
    "# ✅ Load API key from .env\n",
    "load_dotenv()\n",
    "google_api_key = os.getenv(\"GOOGLE_API_KEY\")\n",
    "\n",
    "if not google_api_key:\n",
    "    raise ValueError(\"❌ GOOGLE_API_KEY not found in .env file\")\n",
    "\n",
    "# ✅ Step 1: Load PDF\n",
    "loader = PyMuPDFLoader(\"NIPS-2017-attention-is-all-you-need-Paper.pdf\")\n",
    "raw_docs = loader.load()\n",
    "\n",
    "# ✅ Step 2: Split documents into chunks\n",
    "splitter = RecursiveCharacterTextSplitter(chunk_size=1000, chunk_overlap=100)\n",
    "docs = splitter.split_documents(raw_docs)\n",
    "\n",
    "# ✅ Step 3: Generate Embeddings\n",
    "embedding_model = HuggingFaceEmbeddings(model_name=\"sentence-transformers/all-MiniLM-L6-v2\")\n",
    "vectorstore = FAISS.from_documents(docs, embedding_model)\n",
    "retriever = vectorstore.as_retriever()\n",
    "\n",
    "# ✅ Step 4: Set up Gemini model\n",
    "llm = ChatGoogleGenerativeAI(\n",
    "    model=\"gemini-2.0-flash\",\n",
    "    google_api_key=google_api_key,\n",
    "    convert_system_message_to_human=True\n",
    ")\n",
    "\n",
    "# ✅ Step 5: Create RetrievalQA chain\n",
    "qa_chain = RetrievalQA.from_chain_type(\n",
    "    llm=llm,\n",
    "    chain_type=\"stuff\",\n",
    "    retriever=retriever,\n",
    "    return_source_documents=True\n",
    ")\n",
    "\n",
    "# ✅ Step 6: Run a query\n",
    "query = \"What is the summary of section 2?\"\n",
    "result = qa_chain.invoke(query)\n",
    "\n",
    "# ✅ Print result\n",
    "print(\"\\n📘 Answer:\", result[\"result\"])\n",
    "print(\"\\n📄 Source(s):\")\n",
    "for doc in result[\"source_documents\"]:\n",
    "    print(\"-\", doc.metadata.get(\"page\", \"No page info\"), \":\", doc.page_content[:200], \"...\")\n"
   ]
  },
  {
   "cell_type": "code",
   "execution_count": null,
   "metadata": {},
   "outputs": [],
   "source": [
    "# LangChain LLM wrapper for Gemini\n",
    "from langchain_google_genai import ChatGoogleGenerativeAI"
   ]
  },
  {
   "cell_type": "markdown",
   "metadata": {},
   "source": [
    "# Direct Gemini Api Testing"
   ]
  },
  {
   "cell_type": "code",
   "execution_count": null,
   "metadata": {},
   "outputs": [],
   "source": [
    "import os\n",
    "import google.generativeai as genai\n",
    "from dotenv import load_dotenv\n",
    "\n",
    "# Load your API key\n",
    "load_dotenv()\n",
    "GOOGLE_API_KEY = os.getenv(\"GOOGLE_API_KEY\")\n",
    "\n",
    "genai.configure(api_key=GOOGLE_API_KEY)\n",
    "\n",
    "# Initialize Gemini model\n",
    "model = genai.GenerativeModel(\"gemini-2.0-flash\")\n",
    "\n",
    "# Run a prompt\n",
    "response = model.generate_content(\"Summarize the benefits of AI in agriculture.\")\n",
    "\n",
    "print(\"Response:\\n\", response.text)\n"
   ]
  },
  {
   "cell_type": "markdown",
   "metadata": {},
   "source": [
    "# Install these Libraries"
   ]
  },
  {
   "cell_type": "code",
   "execution_count": null,
   "metadata": {},
   "outputs": [],
   "source": [
    "!pip install \\\n",
    "  langchain==0.1.17 \\\n",
    "  langchain-core==0.1.52 \\\n",
    "  langchain-community==0.0.38 \\\n",
    "  langchain-google-genai==0.0.6 \\\n",
    "  google-generativeai==0.3.2 \\\n",
    "  faiss-cpu==1.7.4 \\\n",
    "  unstructured==0.12.6 \\\n",
    "  pypdf==4.2.0 \\\n",
    "  sentence-transformers==2.2.2\n",
    "\n"
   ]
  },
  {
   "cell_type": "code",
   "execution_count": null,
   "metadata": {},
   "outputs": [],
   "source": [
    "# ✅ Imports\n",
    "from langchain_community.document_loaders import PyMuPDFLoader\n",
    "from langchain.text_splitter import RecursiveCharacterTextSplitter\n",
    "from langchain.vectorstores import FAISS\n",
    "from langchain.embeddings import HuggingFaceEmbeddings\n",
    "from langchain.chains import RetrievalQA\n",
    "from langchain_google_genai import GoogleGenerativeAI\n",
    "from langchain_core.prompts import PromptTemplate\n",
    "from dotenv import load_dotenv\n",
    "import os"
   ]
  },
  {
   "cell_type": "code",
   "execution_count": null,
   "metadata": {},
   "outputs": [],
   "source": [
    "# ✅ Load your API key from .env file\n",
    "load_dotenv()\n",
    "google_api_key = os.getenv(\"GOOGLE_API_KEY\")\n",
    "\n",
    "# ✅ Check for API key before proceeding\n",
    "if not google_api_key:\n",
    "    raise ValueError(\"GOOGLE_API_KEY not found in .env file!\")\n",
    "\n",
    "# ✅ Load PDF document using a compatible loader\n",
    "loader = PyMuPDFLoader(\"NIPS-2017-attention-is-all-you-need-Paper.pdf\")  # Make sure this file is in the same folder or give full path\n",
    "documents = loader.load()"
   ]
  },
  {
   "cell_type": "code",
   "execution_count": null,
   "metadata": {},
   "outputs": [],
   "source": [
    "!pip uninstall -y numpy transformers\n",
    "!pip install numpy==1.24.4\n",
    "!pip install transformers --upgrade\n"
   ]
  },
  {
   "cell_type": "code",
   "execution_count": null,
   "metadata": {},
   "outputs": [],
   "source": [
    "!pip install sentence-transformers\n"
   ]
  },
  {
   "cell_type": "code",
   "execution_count": null,
   "metadata": {},
   "outputs": [],
   "source": [
    "# ✅ Imports\n",
    "from langchain_community.document_loaders import PyMuPDFLoader\n",
    "from langchain.text_splitter import RecursiveCharacterTextSplitter\n",
    "from langchain.vectorstores import FAISS\n",
    "from langchain.embeddings import HuggingFaceEmbeddings\n",
    "from langchain.chains import RetrievalQA\n",
    "from langchain_google_genai import GoogleGenerativeAI\n",
    "from langchain_core.prompts import PromptTemplate\n",
    "from sentence_transformers import SentenceTransformer\n",
    "from dotenv import load_dotenv\n",
    "import os\n",
    "\n",
    "# ✅ Load your API key from .env file\n",
    "load_dotenv()\n",
    "google_api_key = os.getenv(\"GOOGLE_API_KEY\")\n",
    "\n",
    "# ✅ Check for API key before proceeding\n",
    "if not google_api_key:\n",
    "    raise ValueError(\"GOOGLE_API_KEY not found in .env file!\")\n",
    "\n",
    "# ✅ Load PDF document using a compatible loader\n",
    "loader = PyMuPDFLoader(\"NIPS-2017-attention-is-all-you-need-Paper.pdf\")  # Make sure this file is in the same folder or give full path\n",
    "documents = loader.load()\n",
    "\n",
    "# ✅ Split the text into chunks\n",
    "splitter = RecursiveCharacterTextSplitter(chunk_size=1000, chunk_overlap=100)\n",
    "docs = splitter.split_documents(documents)\n",
    "\n",
    "# ✅ Generate embeddings\n",
    "embedding_model = HuggingFaceEmbeddings(model_name=\"sentence-transformers/all-MiniLM-L6-v2\")\n",
    "\n",
    "# ✅ Store in FAISS\n",
    "db = FAISS.from_documents(docs, embedding_model)\n",
    "retriever = db.as_retriever()\n",
    "\n",
    "# ✅ Setup Gemini LLM\n",
    "llm = GoogleGenerativeAI(model=\"models/gemini-2.0-flash\", google_api_key=google_api_key)\n",
    "\n",
    "# ✅ Build the RetrievalQA chain\n",
    "qa_chain = RetrievalQA.from_chain_type(\n",
    "    llm=llm,\n",
    "    chain_type=\"stuff\",\n",
    "    retriever=retriever,\n",
    "    return_source_documents=True\n",
    ")\n",
    "\n",
    "# ✅ Run a test query\n",
    "query = \"What is the summary of section 2?\"\n",
    "result = qa_chain.invoke({\"query\": query})\n",
    "print(\"Answer:\", result[\"result\"])\n"
   ]
  },
  {
   "cell_type": "code",
   "execution_count": null,
   "metadata": {
    "colab": {
     "base_uri": "https://localhost:8080/",
     "height": 411
    },
    "executionInfo": {
     "elapsed": 2769,
     "status": "error",
     "timestamp": 1746280520939,
     "user": {
      "displayName": "Bushra BAIG",
      "userId": "06814489380543387202"
     },
     "user_tz": 420
    },
    "id": "VMiYFuLYXJaB",
    "outputId": "1d24e44e-c0d9-4920-80b5-728630802dd3"
   },
   "outputs": [],
   "source": [
    "query = \"What is the main topic of the document?\"\n",
    "response = qa_chain({\"query\": query})\n",
    "\n",
    "# Access result and sources separately\n",
    "print(\"Answer:\", response[\"result\"])\n",
    "\n",
    "# Optional: print sources\n",
    "for i, doc in enumerate(response[\"source_documents\"], 1):\n",
    "    print(f\"\\nSource {i}:\\n{doc.page_content}\")\n"
   ]
  },
  {
   "cell_type": "code",
   "execution_count": null,
   "metadata": {
    "colab": {
     "base_uri": "https://localhost:8080/",
     "height": 393
    },
    "executionInfo": {
     "elapsed": 2512,
     "status": "error",
     "timestamp": 1746280529561,
     "user": {
      "displayName": "Bushra BAIG",
      "userId": "06814489380543387202"
     },
     "user_tz": 420
    },
    "id": "nzXTpw1KVVOO",
    "outputId": "5f098413-2714-490a-e523-a455a57a6c7b"
   },
   "outputs": [],
   "source": [
    "# 6. Ask Questions\n",
    "query = \"What is the main topic of the document?\"\n",
    "result = qa_chain({\"query\": query})\n",
    "print(\"Answer:\", result[\"result\"])"
   ]
  }
 ],
 "metadata": {
  "colab": {
   "authorship_tag": "ABX9TyOZ/wMmYPAiFqI8ZnMPnYyx",
   "provenance": [
    {
     "file_id": "13qNma992lm_DtdUK29VnktKuipvdhi2I",
     "timestamp": 1746280596642
    }
   ]
  },
  "kernelspec": {
   "display_name": "Python 3",
   "language": "python",
   "name": "python3"
  },
  "language_info": {
   "codemirror_mode": {
    "name": "ipython",
    "version": 3
   },
   "file_extension": ".py",
   "mimetype": "text/x-python",
   "name": "python",
   "nbconvert_exporter": "python",
   "pygments_lexer": "ipython3",
   "version": "3.10.16"
  }
 },
 "nbformat": 4,
 "nbformat_minor": 0
}
